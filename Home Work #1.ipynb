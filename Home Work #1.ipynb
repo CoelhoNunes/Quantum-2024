{
 "cells": [
  {
   "cell_type": "markdown",
   "id": "6c9a03f5",
   "metadata": {},
   "source": [
    "# Homework #1"
   ]
  },
  {
   "cell_type": "markdown",
   "id": "48971bc3",
   "metadata": {},
   "source": [
    "1. **Calculate the inner product of vectors**\n",
    "   $\\begin{pmatrix} 2 \\\\ 3 \\end{pmatrix}$ and $\\begin{pmatrix} -4 \\\\ 1 \\end{pmatrix}$."
   ]
  },
  {
   "attachments": {},
   "cell_type": "markdown",
   "id": "ec8f7865",
   "metadata": {},
   "source": [
    "*Your Python solution*"
   ]
  },
  {
   "cell_type": "code",
   "outputs": [
    {
     "name": "stdout",
     "output_type": "stream",
     "text": [
      "The inner product of the vectors is: -5\n"
     ]
    }
   ],
   "source": [
    "import numpy as np\n",
    "\n",
    "# Define the vectors\n",
    "vector1 = np.array([2, 3])\n",
    "vector2 = np.array([-4, 1])\n",
    "\n",
    "# Compute the inner product\n",
    "inner_product = np.dot(vector1, vector2)\n",
    "\n",
    "print(\"The inner product of the vectors is:\", inner_product)"
   ],
   "metadata": {
    "collapsed": false,
    "ExecuteTime": {
     "end_time": "2024-01-22T18:43:36.864785700Z",
     "start_time": "2024-01-22T18:43:35.879153500Z"
    }
   },
   "id": "350c2151be12d42c",
   "execution_count": 2
  },
  {
   "cell_type": "markdown",
   "id": "8135b287",
   "metadata": {},
   "source": [
    "*Your handwritten solution.* "
   ]
  },
  {
   "cell_type": "markdown",
   "id": "37741fe5",
   "metadata": {},
   "source": [
    "2. **Normalize the vector**\n",
    "   $\\begin{pmatrix} 3 \\\\ -4 \\end{pmatrix}$."
   ]
  },
  {
   "attachments": {},
   "cell_type": "markdown",
   "id": "8c98a362",
   "metadata": {},
   "source": [
    "*Your Python solution*"
   ]
  },
  {
   "cell_type": "code",
   "outputs": [
    {
     "name": "stdout",
     "output_type": "stream",
     "text": [
      "The normalized vector is: [ 0.6 -0.8]\n"
     ]
    }
   ],
   "source": [
    "import numpy as np\n",
    "\n",
    "# Define the vector\n",
    "vector = np.array([3, -4])\n",
    "\n",
    "# Calculate the magnitude of the vector\n",
    "magnitude = np.linalg.norm(vector)\n",
    "\n",
    "# Normalize the vector\n",
    "normalized_vector = vector / magnitude\n",
    "\n",
    "print(\"The normalized vector is:\", normalized_vector)\n"
   ],
   "metadata": {
    "collapsed": false,
    "ExecuteTime": {
     "end_time": "2024-01-22T18:43:36.883733400Z",
     "start_time": "2024-01-22T18:43:36.865886800Z"
    }
   },
   "id": "8db2b36870e991d8",
   "execution_count": 3
  },
  {
   "cell_type": "markdown",
   "id": "d5551733",
   "metadata": {},
   "source": [
    "*Your handwritten solution.* "
   ]
  },
  {
   "cell_type": "markdown",
   "id": "65fe4ee8",
   "metadata": {},
   "source": [
    "3. **Find the cross product of**\n",
    "   $\\begin{pmatrix} 1 \\\\ 2 \\\\ 3 \\end{pmatrix}$ and $\\begin{pmatrix} 4 \\\\ 5 \\\\ 6 \\end{pmatrix}$.\n",
    "   *Hint:* Remember the determinant expansion method."
   ]
  },
  {
   "cell_type": "markdown",
   "id": "27f8a172",
   "metadata": {},
   "source": [
    "*Your Python solution* \n",
    "> see here: https://numpy.org/doc/stable/reference/generated/numpy.cross.html\n"
   ]
  },
  {
   "cell_type": "code",
   "outputs": [
    {
     "name": "stdout",
     "output_type": "stream",
     "text": [
      "The cross product of the vectors is: [-3  6 -3]\n"
     ]
    }
   ],
   "source": [
    "# Define the vectors (assuming the third component is 0 for 2D vectors)\n",
    "vector1 = np.array([1, 2, 3])  # Extend the 2D vector (2, 3) to 3D\n",
    "vector2 = np.array([4, 5, 6])  # Extend the 2D vector (-4, 1) to 3D\n",
    "\n",
    "# Compute the cross product\n",
    "cross_product = np.cross(vector1, vector2)\n",
    "\n",
    "print(\"The cross product of the vectors is:\", cross_product)\n"
   ],
   "metadata": {
    "collapsed": false,
    "ExecuteTime": {
     "end_time": "2024-01-22T18:43:37.003136700Z",
     "start_time": "2024-01-22T18:43:36.874694600Z"
    }
   },
   "id": "6680226eb979c0f9",
   "execution_count": 4
  },
  {
   "cell_type": "markdown",
   "id": "afddf75a",
   "metadata": {},
   "source": [
    "*Your handwritten solution.* "
   ]
  },
  {
   "cell_type": "markdown",
   "id": "ea18b907",
   "metadata": {},
   "source": [
    "4. **Compute the determinant of the matrix**\n",
    "   $\\begin{pmatrix} 1 & 2 \\\\ 3 & 4 \\end{pmatrix}$."
   ]
  },
  {
   "cell_type": "markdown",
   "id": "c4a5f200",
   "metadata": {},
   "source": [
    "*Your Python solution*"
   ]
  },
  {
   "cell_type": "code",
   "outputs": [
    {
     "name": "stdout",
     "output_type": "stream",
     "text": [
      "The determinant of the matrix is: -2.0\n"
     ]
    }
   ],
   "source": [
    "# Define the matrix\n",
    "matrix = np.array([[1, 2], [3, 4]])\n",
    "\n",
    "# Calculate the determinant\n",
    "determinant = np.linalg.det(matrix)\n",
    "\n",
    "# Rounding the final answer\n",
    "print(\"The determinant of the matrix is:\", determinant.round())"
   ],
   "metadata": {
    "collapsed": false,
    "ExecuteTime": {
     "end_time": "2024-01-22T18:43:37.084857700Z",
     "start_time": "2024-01-22T18:43:36.940873Z"
    }
   },
   "id": "93ca44f788d04683",
   "execution_count": 5
  },
  {
   "cell_type": "markdown",
   "id": "b5db0aee",
   "metadata": {},
   "source": [
    "*Your handwritten solution.* "
   ]
  },
  {
   "cell_type": "markdown",
   "id": "c9fc4ae7",
   "metadata": {},
   "source": [
    "5. **Compute the _tensor_ product of vectors**\n",
    "   $\\begin{pmatrix} 1 \\\\ 2 \\end{pmatrix}$ and $\\begin{pmatrix} 3 \\\\ 4 \\end{pmatrix}$.\n",
    "   *Hint:* The result should be a $4 \\times 1$ vector."
   ]
  },
  {
   "cell_type": "markdown",
   "id": "9e6bad23",
   "metadata": {},
   "source": [
    "*Your Python solution*"
   ]
  },
  {
   "cell_type": "code",
   "outputs": [
    {
     "name": "stdout",
     "output_type": "stream",
     "text": [
      "The tensor product of the vectors is:\n",
      "\n",
      "[[3]\n",
      " [4]\n",
      " [6]\n",
      " [8]]\n"
     ]
    }
   ],
   "source": [
    "# Define the vectors\n",
    "v = np.array([1, 2])\n",
    "w = np.array([3, 4])\n",
    "\n",
    "# Compute the tensor product (Kronecker product)\n",
    "tensor_product = np.kron(v, w)\n",
    "\n",
    "# Reshape the tensor product to a 4x1 matrix for display\n",
    "tensor_product_matrix = tensor_product.reshape(-1, 1)\n",
    "\n",
    "print(\"The tensor product of the vectors is:\\n\")\n",
    "print(tensor_product_matrix)"
   ],
   "metadata": {
    "collapsed": false,
    "ExecuteTime": {
     "end_time": "2024-01-22T18:43:37.170098600Z",
     "start_time": "2024-01-22T18:43:37.030966700Z"
    }
   },
   "id": "5e1a9a7a6242ebde",
   "execution_count": 6
  },
  {
   "cell_type": "markdown",
   "id": "448aeacd",
   "metadata": {},
   "source": [
    "*Your handwritten solution.* "
   ]
  },
  {
   "cell_type": "markdown",
   "id": "2417f0ee",
   "metadata": {},
   "source": [
    "6. **Compute the _dyadic_ product of vectors**\n",
    "   $\\begin{pmatrix} 1 \\\\ 2 \\end{pmatrix}$ and $\\begin{pmatrix} 3 \\\\ 4 \\end{pmatrix}$.\n",
    "   *Hint:* The result should be a $2 \\times 2$ matrix."
   ]
  },
  {
   "cell_type": "markdown",
   "id": "00cafd5a",
   "metadata": {},
   "source": [
    "*Your Python solution*"
   ]
  },
  {
   "cell_type": "code",
   "outputs": [
    {
     "name": "stdout",
     "output_type": "stream",
     "text": [
      "The dyadic product of the vectors is:\n",
      "\n",
      "[[3 4]\n",
      " [6 8]]\n"
     ]
    }
   ],
   "source": [
    "# Define the vectors\n",
    "v = np.array([[1], [2]])  # Column vector\n",
    "w = np.array([[3, 4]])    # Row vector\n",
    "\n",
    "# Compute the dyadic product\n",
    "dyadic_product = np.dot(v, w)\n",
    "\n",
    "print(\"The dyadic product of the vectors is:\\n\")\n",
    "print(dyadic_product)"
   ],
   "metadata": {
    "collapsed": false,
    "ExecuteTime": {
     "end_time": "2024-01-22T18:43:37.259058600Z",
     "start_time": "2024-01-22T18:43:37.102444100Z"
    }
   },
   "id": "d79adbec25c92c3d",
   "execution_count": 7
  },
  {
   "cell_type": "markdown",
   "id": "9784923c",
   "metadata": {},
   "source": [
    "*Your handwritten solution.* "
   ]
  },
  {
   "cell_type": "markdown",
   "id": "55d75348",
   "metadata": {},
   "source": [
    "7. **Calculate the inner product of complex vectors**\n",
    "   $\\begin{pmatrix} 2i \\\\ 4 \\end{pmatrix}$ and $\\begin{pmatrix} 3 - i \\\\ i \\end{pmatrix}$.\n",
    "   *Hint:* Recall the conjugate transpose for complex numbers."
   ]
  },
  {
   "cell_type": "markdown",
   "id": "2980d62e",
   "metadata": {},
   "source": [
    "*Your Python solution*"
   ]
  },
  {
   "cell_type": "code",
   "outputs": [
    {
     "name": "stdout",
     "output_type": "stream",
     "text": [
      "The inner product of the complex vectors is: (-2-2j)\n"
     ]
    }
   ],
   "source": [
    "# Define the complex vectors\n",
    "v = np.array([2j, 4])\n",
    "w = np.array([3 - 1j, 1j])\n",
    "\n",
    "# Compute the inner product (conjugate transpose of v dot w)\n",
    "inner_product = np.vdot(v, w)\n",
    "\n",
    "print(\"The inner product of the complex vectors is:\", inner_product)"
   ],
   "metadata": {
    "collapsed": false,
    "ExecuteTime": {
     "end_time": "2024-01-22T18:43:37.357393Z",
     "start_time": "2024-01-22T18:43:37.166998600Z"
    }
   },
   "id": "86089701cd256d81",
   "execution_count": 8
  },
  {
   "cell_type": "markdown",
   "id": "2de1fd8a",
   "metadata": {},
   "source": [
    "*Your handwritten solution.* "
   ]
  },
  {
   "cell_type": "markdown",
   "id": "10d76b6b",
   "metadata": {},
   "source": [
    "8. **Normalize the complex vector**\n",
    "    $\\begin{pmatrix} i \\\\ 1 - i \\end{pmatrix}$.\n",
    "    *Hint:* Remember the magnitude of a complex number."
   ]
  },
  {
   "cell_type": "markdown",
   "id": "3d97cccd",
   "metadata": {},
   "source": [
    "*Your Python solution*"
   ]
  },
  {
   "cell_type": "code",
   "outputs": [
    {
     "name": "stdout",
     "output_type": "stream",
     "text": [
      "The normalized complex vector is:\n",
      "[0.00+0.58j, 0.58-0.58j]\n"
     ]
    }
   ],
   "source": [
    "# Define the complex vector\n",
    "v = np.array([1j, 1 - 1j])\n",
    "\n",
    "# Calculate the magnitude (norm) of the vector\n",
    "norm = np.linalg.norm(v)\n",
    "\n",
    "# Normalize the vector\n",
    "normalized_v = v / norm\n",
    "\n",
    "# Format the result for printing\n",
    "formatted_result = np.array2string(normalized_v, separator=', ', formatter={'complexfloat': lambda x: f'{x:.2f}'})\n",
    "\n",
    "print(\"The normalized complex vector is:\")\n",
    "print(formatted_result)"
   ],
   "metadata": {
    "collapsed": false,
    "ExecuteTime": {
     "end_time": "2024-01-22T18:45:50.628901600Z",
     "start_time": "2024-01-22T18:45:50.539226400Z"
    }
   },
   "id": "16272310ea34fea0",
   "execution_count": 10
  },
  {
   "cell_type": "markdown",
   "id": "f41e54a5",
   "metadata": {},
   "source": [
    "*Your handwritten solution.* "
   ]
  },
  {
   "cell_type": "markdown",
   "id": "ca1e990a",
   "metadata": {},
   "source": [
    "9. **Find the determinant of the complex matrix**\n",
    "    $\\begin{pmatrix} i & 1 - i \\\\ 2 + i & 3 \\end{pmatrix}$.\n",
    "    *Hint:* Same formula, but now consider complex arithmetic."
   ]
  },
  {
   "cell_type": "markdown",
   "id": "91409fcd",
   "metadata": {},
   "source": [
    "*Your Python solution*"
   ]
  },
  {
   "cell_type": "code",
   "outputs": [
    {
     "name": "stdout",
     "output_type": "stream",
     "text": [
      "The determinant of the complex matrix is:\n",
      "-3.00 + 4.00i\n"
     ]
    }
   ],
   "source": [
    "# Define the complex matrix\n",
    "A = np.array([[1j, 1 - 1j], [2 + 1j, 3]])\n",
    "\n",
    "# Calculate the determinant\n",
    "det_A = np.linalg.det(A)\n",
    "\n",
    "# Format the output to two decimal places for both real and imaginary parts\n",
    "formatted_det = f'{det_A.real:.2f} + {det_A.imag:.2f}i'\n",
    "\n",
    "print(\"The determinant of the complex matrix is:\")\n",
    "print(formatted_det)"
   ],
   "metadata": {
    "collapsed": false,
    "ExecuteTime": {
     "end_time": "2024-01-22T18:50:33.889015700Z",
     "start_time": "2024-01-22T18:50:33.734282400Z"
    }
   },
   "id": "af0925f6063a11a7",
   "execution_count": 12
  },
  {
   "cell_type": "markdown",
   "id": "1018e9d8",
   "metadata": {},
   "source": [
    "*Your handwritten solution.* "
   ]
  },
  {
   "cell_type": "markdown",
   "id": "e654f236",
   "metadata": {},
   "source": [
    "10. **Define the following five matrices in Python (NumPy)**:\n",
    "\n",
    "\\begin{align}\n",
    "I = \\begin{pmatrix} 1&0 \\\\ 0&1 \\end{pmatrix}, \\quad\n",
    "X = \\begin{pmatrix} 0&1 \\\\ 1&0 \\end{pmatrix}, \\quad\n",
    "Y = \\begin{pmatrix} 0&i \\\\ -i&0 \\end{pmatrix}, \\quad\n",
    "Z = \\begin{pmatrix} 1&0 \\\\ 0&-1 \\end{pmatrix}, \\quad\n",
    "H = \\frac{1}{\\sqrt{2}} \\begin{pmatrix} 1&1 \\\\ 1&-1 \\end{pmatrix}\n",
    "\\end{align}\n",
    "\n",
    "These are five of the most common single qubit gates used in quantum computing, and they will be used repeatedly. "
   ]
  },
  {
   "cell_type": "markdown",
   "id": "81664753",
   "metadata": {},
   "source": [
    "#### Write Python code to compute the following matrix multiplications:\n",
    "\n",
    "1. $XY$\n",
    "2. $YX$\n",
    "3. $YZ$\n",
    "4. $ZY$\n",
    "5. $HX$\n",
    "6. $YH$\n",
    "7. $XYZ$\n",
    "8. $YZX$\n",
    "9. $ZXY$\n",
    "10. $XHY$"
   ]
  },
  {
   "cell_type": "markdown",
   "id": "27ed96eb",
   "metadata": {},
   "source": [
    "*Your Python solution*"
   ]
  },
  {
   "cell_type": "code",
   "outputs": [
    {
     "name": "stdout",
     "output_type": "stream",
     "text": [
      "Matrix multiplication result for XY:\n",
      "[[0.+1.j 0.+0.j]\n",
      " [0.+0.j 0.-1.j]]\n",
      "\n",
      "\n",
      "Matrix multiplication result for YX:\n",
      "[[0.-1.j 0.+0.j]\n",
      " [0.+0.j 0.+1.j]]\n",
      "\n",
      "\n",
      "Matrix multiplication result for YZ:\n",
      "[[0.+0.j 0.+1.j]\n",
      " [0.+1.j 0.+0.j]]\n",
      "\n",
      "\n",
      "Matrix multiplication result for ZY:\n",
      "[[0.+0.j 0.-1.j]\n",
      " [0.-1.j 0.+0.j]]\n",
      "\n",
      "\n",
      "Matrix multiplication result for HX:\n",
      "[[ 0.70710678  0.70710678]\n",
      " [-0.70710678  0.70710678]]\n",
      "\n",
      "\n",
      "Matrix multiplication result for YH:\n",
      "[[0.-0.70710678j 0.+0.70710678j]\n",
      " [0.+0.70710678j 0.+0.70710678j]]\n",
      "\n",
      "\n",
      "Matrix multiplication result for YXZ:\n",
      "[[0.-1.j 0.+0.j]\n",
      " [0.+0.j 0.-1.j]]\n",
      "\n",
      "\n",
      "Matrix multiplication result for ZYX:\n",
      "[[0.-1.j 0.+0.j]\n",
      " [0.+0.j 0.-1.j]]\n",
      "\n",
      "\n",
      "Matrix multiplication result for XYH:\n",
      "[[0.+0.70710678j 0.+0.70710678j]\n",
      " [0.-0.70710678j 0.+0.70710678j]]\n",
      "\n",
      "\n",
      "Matrix multiplication result for XHY:\n",
      "[[0.-0.70710678j 0.-0.70710678j]\n",
      " [0.+0.70710678j 0.-0.70710678j]]\n"
     ]
    }
   ],
   "source": [
    "# Define the quantum gates as matrices\n",
    "I = np.array([[1, 0], [0, 1]])\n",
    "X = np.array([[0, 1], [1, 0]])\n",
    "Y = np.array([[0, -1j], [1j, 0]])\n",
    "Z = np.array([[1, 0], [0, -1]])\n",
    "H = (1/np.sqrt(2)) * np.array([[1, 1], [1, -1]])\n",
    "\n",
    "# Perform the matrix multiplications\n",
    "results = {\n",
    "    'XY': np.dot(X, Y),\n",
    "    'YX': np.dot(Y, X),\n",
    "    'YZ': np.dot(Y, Z),\n",
    "    'ZY': np.dot(Z, Y),\n",
    "    'HX': np.dot(H, X),\n",
    "    'YH': np.dot(Y, H),\n",
    "    'YXZ': np.dot(Y, np.dot(X, Z)),\n",
    "    'ZYX': np.dot(Z, np.dot(Y, X)),\n",
    "    'XYH': np.dot(X, np.dot(Y, H)),\n",
    "    'XHY': np.dot(X, np.dot(H, Y)),\n",
    "}\n",
    "\n",
    "# Function to print matrices cleanly with their labels\n",
    "def print_results(results):\n",
    "    for name, matrix in results.items():\n",
    "        print(f\"Matrix multiplication result for {name}:\")\n",
    "        print(matrix)\n",
    "        print(\"\\n\")\n",
    "\n",
    "# Print the matrices\n",
    "print_results(results)"
   ],
   "metadata": {
    "collapsed": false,
    "ExecuteTime": {
     "end_time": "2024-01-22T18:55:54.387910400Z",
     "start_time": "2024-01-22T18:55:54.298990300Z"
    }
   },
   "id": "8548e8da81a74e92",
   "execution_count": 14
  }
 ],
 "metadata": {
  "kernelspec": {
   "display_name": "Python 3 (ipykernel)",
   "language": "python",
   "name": "python3"
  },
  "language_info": {
   "codemirror_mode": {
    "name": "ipython",
    "version": 3
   },
   "file_extension": ".py",
   "mimetype": "text/x-python",
   "name": "python",
   "nbconvert_exporter": "python",
   "pygments_lexer": "ipython3",
   "version": "3.8.18"
  }
 },
 "nbformat": 4,
 "nbformat_minor": 5
}
