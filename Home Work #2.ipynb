{
 "cells": [
  {
   "cell_type": "markdown",
   "id": "ee87e7a0",
   "metadata": {},
   "source": [
    "# Homework #2 -- Daniel Coelho\n",
    "\n",
    "Instructor: Dr. Alex Krasnok"
   ]
  },
  {
   "cell_type": "markdown",
   "id": "836961ae",
   "metadata": {},
   "source": [
    "**1. Compute the *tensor products* of the vectors:**\n",
    "\n",
    "$\\begin{pmatrix} a \\\\ b \\end{pmatrix} \\otimes \\begin{pmatrix} c \\\\ d \\end{pmatrix}$ \n",
    "\n",
    "$\\begin{pmatrix} 1 \\\\ 2 \\end{pmatrix} \\otimes \\begin{pmatrix} 3 \\\\ 4 \\end{pmatrix}$.\n",
    "\n",
    "For Python solution use _both_ numerical (NumPy) and symbolic (SymPy) libraries."
   ]
  },
  {
   "cell_type": "markdown",
   "id": "ec8f7865",
   "metadata": {},
   "source": [
    "*Your Python solution*"
   ]
  },
  {
   "cell_type": "code",
   "outputs": [
    {
     "name": "stdout",
     "output_type": "stream",
     "text": [
      "Numerical tensor product:\n",
      " [[3 4]\n",
      " [6 8]]\n",
      "\n",
      "Symbolic tensor product: \n",
      " [[[[a*c], [a*d]]], [[[b*c], [b*d]]]]\n"
     ]
    }
   ],
   "source": [
    "import numpy as np\n",
    "from sympy import *\n",
    "\n",
    "# Numerical tensor product\n",
    "vector1_num = np.array([1, 2])\n",
    "vector2_num = np.array([3, 4])\n",
    "\n",
    "tensor_product_num = np.outer(vector1_num, vector2_num)\n",
    "print(\"Numerical tensor product:\\n\", tensor_product_num)\n",
    "\n",
    "# Symbolic tensor product\n",
    "a, b, c, d = symbols('a b c d')\n",
    "vector1_sym = Matrix([a, b])\n",
    "vector2_sym = Matrix([c, d])\n",
    "\n",
    "tensor_product_sym = tensorproduct(vector1_sym, vector2_sym)\n",
    "print(\"\\nSymbolic tensor product: \\n\", tensor_product_sym)"
   ],
   "metadata": {
    "collapsed": false,
    "ExecuteTime": {
     "end_time": "2024-02-07T16:14:14.780517100Z",
     "start_time": "2024-02-07T16:14:14.753069900Z"
    }
   },
   "id": "cbeb64378f70cce2",
   "execution_count": 10
  },
  {
   "cell_type": "markdown",
   "id": "8135b287",
   "metadata": {},
   "source": [
    "*Your handwritten solution.* "
   ]
  },
  {
   "cell_type": "markdown",
   "id": "3bbb717b",
   "metadata": {},
   "source": [
    "<br>"
   ]
  },
  {
   "cell_type": "markdown",
   "id": "7c950519",
   "metadata": {},
   "source": [
    "**2. Express the complex number $z = 3 + 4i$ in polar and exponential form. Find the absolute value and normalize the vector.**\n",
    "\n",
    "For Python solution use both numerical (NumPy) and symbolic (SymPy) libraries."
   ]
  },
  {
   "cell_type": "markdown",
   "id": "89783769",
   "metadata": {},
   "source": [
    "*Your Python solution*"
   ]
  },
  {
   "cell_type": "code",
   "outputs": [
    {
     "name": "stdout",
     "output_type": "stream",
     "text": [
      "Numerical solution:\n",
      "Polar form: (3+4j)\n",
      "Exponential form: 5.0e^0.927i\n",
      "Normalized vector: (0.6+0.8j)\n",
      "\n",
      "Symbolic solution (evaluated numerically):\n",
      "Polar form: 3.0 + 4.0*I\n",
      "Exponential form: 3.0 + 4.0*I\n",
      "Normalized vector: 0.6 + 0.8*I\n"
     ]
    }
   ],
   "source": [
    "# Numerical solution\n",
    "z_num = 3 + 4j\n",
    "r_num = abs(z_num)\n",
    "theta_num = np.angle(z_num)\n",
    "z_polar_num = round(r_num, 3) * (round(np.cos(theta_num), 3) + round(np.sin(theta_num), 3) * 1j)\n",
    "z_exponential_num = round(r_num, 3) * np.exp(1j * theta_num)\n",
    "normalized_z_num = z_num / r_num\n",
    "normalized_z_num = round(normalized_z_num.real, 3) + round(normalized_z_num.imag, 3) * 1j\n",
    "\n",
    "print(\"Numerical solution:\")\n",
    "print(\"Polar form:\", z_polar_num)\n",
    "print(\"Exponential form:\", f\"{round(r_num, 3)}e^{round(theta_num, 3)}i\")\n",
    "print(\"Normalized vector:\", normalized_z_num)\n",
    "\n",
    "# Symbolic solution\n",
    "x, y = symbols('x y', real=True)\n",
    "z_sym = x + y * I\n",
    "r_sym = sqrt(x**2 + y**2)\n",
    "theta_sym = atan2(y, x)\n",
    "z_polar_sym = r_sym * (cos(theta_sym) + sin(theta_sym) * I)\n",
    "z_exponential_sym = r_sym * exp(I * theta_sym)\n",
    "normalized_z_sym = z_sym / r_sym\n",
    "\n",
    "# Substitute x = 3, y = 4 (Rounded numbers to the third)\n",
    "z_polar_sym_eval = N(z_polar_sym.subs({x:3, y:4}), 3)\n",
    "z_exponential_sym_eval = N(z_exponential_sym.subs({x:3, y:4}), 3)\n",
    "normalized_z_sym_eval = N(normalized_z_sym.subs({x:3, y:4}), 3)\n",
    "\n",
    "print(\"\\nSymbolic solution (evaluated numerically):\")\n",
    "print(\"Polar form:\", z_polar_sym_eval)\n",
    "print(\"Exponential form:\", z_exponential_sym_eval)\n",
    "print(\"Normalized vector:\", normalized_z_sym_eval)"
   ],
   "metadata": {
    "collapsed": false,
    "ExecuteTime": {
     "end_time": "2024-02-07T16:14:20.374068100Z",
     "start_time": "2024-02-07T16:14:20.359211600Z"
    }
   },
   "id": "11cf45e1ef42134c",
   "execution_count": 11
  },
  {
   "cell_type": "markdown",
   "id": "d54e14d8",
   "metadata": {},
   "source": [
    "*Your handwritten solution* "
   ]
  },
  {
   "cell_type": "markdown",
   "id": "f259a097",
   "metadata": {},
   "source": [
    "<br>"
   ]
  },
  {
   "cell_type": "markdown",
   "id": "31032210",
   "metadata": {},
   "source": [
    "**3. For the complex vector $\\begin{pmatrix} 1 + i \\\\ 2 - 3i \\end{pmatrix}$, compute its conjugate transpose (or adjoint).**\n",
    "\n",
    "Hint: Conjugate each entry and transpose the vector.\n",
    "\n",
    "For Python solution use both numerical (NumPy) and symbolic (SymPy) libraries."
   ]
  },
  {
   "cell_type": "markdown",
   "id": "937db6a9",
   "metadata": {},
   "source": [
    "*Your Python solution*"
   ]
  },
  {
   "cell_type": "code",
   "outputs": [
    {
     "name": "stdout",
     "output_type": "stream",
     "text": [
      "Numerical adjoint: [1.-1.j 2.+3.j]\n",
      "\n",
      "Symbolic adjoint:\n",
      " Matrix([[1 - I, 2 + 3*I]])\n"
     ]
    }
   ],
   "source": [
    "vector_num = np.array([1 + 1j, 2 - 3j])\n",
    "adjoint_num = np.conjugate(np.transpose(vector_num))\n",
    "print(\"Numerical adjoint:\", adjoint_num)\n",
    "\n",
    "# Symbolic solution using SymPy\n",
    "vector_sym = Matrix([[1 + I], [2 - 3*I]])\n",
    "adjoint_sym = vector_sym.H  # .H is the Hermitian (conjugate transpose)\n",
    "print(\"\\nSymbolic adjoint:\\n\", adjoint_sym)"
   ],
   "metadata": {
    "collapsed": false,
    "ExecuteTime": {
     "end_time": "2024-02-07T16:17:55.638422100Z",
     "start_time": "2024-02-07T16:17:55.612844900Z"
    }
   },
   "id": "a51a687bfbb12e6e",
   "execution_count": 14
  },
  {
   "cell_type": "markdown",
   "id": "54532ee7",
   "metadata": {},
   "source": [
    "*Your handwritten solution* "
   ]
  },
  {
   "cell_type": "markdown",
   "id": "f6059f1d",
   "metadata": {},
   "source": [
    "<br>"
   ]
  },
  {
   "cell_type": "markdown",
   "id": "ac4013a3",
   "metadata": {},
   "source": [
    "**4. Using Dirac notation, compute the inner and outer products of $|\\psi\\rangle = \\begin{pmatrix} 2 \\\\ 3 \\end{pmatrix}$ and $|\\phi\\rangle = \\begin{pmatrix} 1 \\\\ -1 \\end{pmatrix}$.**\n",
    "\n",
    "Hint: The inner product is $\\langle\\psi|\\phi\\rangle$ and outer is $|\\psi\\rangle\\langle\\phi|$.\n",
    "\n",
    "For Python solution use SymPy library sympy.physics.quantum (see lecture 4)."
   ]
  },
  {
   "cell_type": "markdown",
   "id": "040b83e3",
   "metadata": {},
   "source": [
    "*Your Python solution*"
   ]
  },
  {
   "cell_type": "code",
   "outputs": [
    {
     "name": "stdout",
     "output_type": "stream",
     "text": [
      "Inner product:\n",
      "⟨φ(1, -1)❘ψ(2, 3)⟩\n",
      "\n",
      "Outer product:\n",
      "❘ψ(2, 3)⟩⟨φ(1, -1)❘\n"
     ]
    }
   ],
   "source": [
    "from sympy.physics.quantum import Ket, qapply\n",
    "from sympy import Matrix, pprint\n",
    "\n",
    "# Define the ket vectors with the given numerical values\n",
    "ket_psi = Ket('psi')\n",
    "ket_phi = Ket('phi')\n",
    "ket_psi = Ket('psi', Matrix([2, 3]))\n",
    "ket_phi = Ket('phi', Matrix([1, -1]))\n",
    "\n",
    "# Define the bra vectors as the conjugate transpose (dagger) of the ket vectors\n",
    "bra_psi = Dagger(ket_psi)\n",
    "bra_phi = Dagger(ket_phi)\n",
    "\n",
    "# Compute the inner product\n",
    "inner_product = qapply(bra_phi * ket_psi)\n",
    "\n",
    "# Compute the outer product\n",
    "outer_product = qapply(ket_psi * bra_phi)\n",
    "\n",
    "# Printing the inner and outer products using IPython's pretty print\n",
    "print(\"Inner product:\")\n",
    "pprint(inner_product, use_unicode=True)\n",
    "\n",
    "print(\"\\nOuter product:\")\n",
    "pprint(outer_product, use_unicode=True)"
   ],
   "metadata": {
    "collapsed": false,
    "ExecuteTime": {
     "end_time": "2024-02-07T16:50:55.883902500Z",
     "start_time": "2024-02-07T16:50:55.824194800Z"
    }
   },
   "id": "bd435b2c83ca016",
   "execution_count": 27
  },
  {
   "cell_type": "markdown",
   "id": "f3c34711",
   "metadata": {},
   "source": [
    "*Your handwritten solution* "
   ]
  },
  {
   "cell_type": "markdown",
   "id": "66bdde98",
   "metadata": {},
   "source": [
    "<br>"
   ]
  },
  {
   "cell_type": "markdown",
   "id": "2c45e03c",
   "metadata": {},
   "source": [
    "**5. Given the matrix $\\begin{pmatrix} 1 & 2i \\\\ -2i & 3 \\end{pmatrix}$, determine if it’s a Hermitian matrix.**\n",
    "\n",
    "Hint: Compute its conjugate transpose and compare.\n",
    "\n",
    "For Python solution use both numerical (NumPy) and symbolic (SymPy) libraries."
   ]
  },
  {
   "cell_type": "markdown",
   "id": "23ab1834",
   "metadata": {},
   "source": [
    "*Your Python solution*"
   ]
  },
  {
   "cell_type": "code",
   "outputs": [
    {
     "name": "stdout",
     "output_type": "stream",
     "text": [
      "Matrix (NumPy):\n",
      " [[ 1.+0.j  0.+2.j]\n",
      " [-0.-2.j  3.+0.j]]\n",
      "Conjugate transpose (NumPy):\n",
      " [[ 1.-0.j -0.+2.j]\n",
      " [ 0.-2.j  3.-0.j]]\n",
      "Is the matrix Hermitian? (NumPy): True\n"
     ]
    }
   ],
   "source": [
    "import numpy as np\n",
    "\n",
    "# Define the matrix\n",
    "matrix_num = np.array([[1, 2j], [-2j, 3]])\n",
    "\n",
    "# Compute its conjugate transpose (Hermitian adjoint)\n",
    "conjugate_transpose_num = matrix_num.conjugate().T\n",
    "\n",
    "# Check if the matrix is Hermitian\n",
    "is_hermitian_num = np.all(matrix_num == conjugate_transpose_num)\n",
    "\n",
    "print(\"Matrix (NumPy):\\n\", matrix_num)\n",
    "print(\"Conjugate transpose (NumPy):\\n\", conjugate_transpose_num)\n",
    "print(\"Is the matrix Hermitian? (NumPy):\", is_hermitian_num)\n"
   ],
   "metadata": {
    "collapsed": false,
    "ExecuteTime": {
     "end_time": "2024-02-07T16:49:55.317203500Z",
     "start_time": "2024-02-07T16:49:55.268232800Z"
    }
   },
   "id": "623d1bb0726e4c9",
   "execution_count": 25
  },
  {
   "cell_type": "code",
   "outputs": [
    {
     "name": "stdout",
     "output_type": "stream",
     "text": [
      "Matrix (SymPy):\n",
      " Matrix([[1, 2*I], [-2*I, 3]])\n",
      "Conjugate transpose (SymPy):\n",
      " Matrix([[1, 2*I], [-2*I, 3]])\n",
      "Is the matrix Hermitian? (SymPy): True\n"
     ]
    }
   ],
   "source": [
    "from sympy import Matrix, I\n",
    "\n",
    "# Define the matrix\n",
    "matrix_sym = Matrix([[1, 2*I], [-2*I, 3]])\n",
    "\n",
    "# Compute its conjugate transpose (Hermitian adjoint)\n",
    "conjugate_transpose_sym = matrix_sym.H\n",
    "\n",
    "# Check if the matrix is Hermitian\n",
    "is_hermitian_sym = matrix_sym == conjugate_transpose_sym\n",
    "\n",
    "print(\"Matrix (SymPy):\\n\", matrix_sym)\n",
    "print(\"Conjugate transpose (SymPy):\\n\", conjugate_transpose_sym)\n",
    "print(\"Is the matrix Hermitian? (SymPy):\", is_hermitian_sym)"
   ],
   "metadata": {
    "collapsed": false,
    "ExecuteTime": {
     "end_time": "2024-02-07T16:49:57.271676500Z",
     "start_time": "2024-02-07T16:49:57.263675300Z"
    }
   },
   "id": "d8c4a9d75fd7b4cc",
   "execution_count": 26
  },
  {
   "cell_type": "markdown",
   "id": "5e35d119",
   "metadata": {},
   "source": [
    "*Your handwritten solution* "
   ]
  },
  {
   "cell_type": "markdown",
   "id": "a62de6b7",
   "metadata": {},
   "source": [
    "<br>"
   ]
  },
  {
   "cell_type": "markdown",
   "id": "dfbc4699",
   "metadata": {},
   "source": [
    "**6. Represent the action of a matrix $\\begin{pmatrix} 1 & 0 \\\\ 0 & -1 \\end{pmatrix}$ on a vector $|\\phi\\rangle = \\begin{pmatrix} a \\\\ b \\end{pmatrix}$.**\n",
    "\n",
    "Hint: The action of the matrix on the vector is given by $M |\\phi\\rangle$.\n",
    "\n",
    "For Python solution use symbolic (SymPy) library.\n"
   ]
  },
  {
   "cell_type": "code",
   "outputs": [
    {
     "name": "stdout",
     "output_type": "stream",
     "text": [
      "The action of the matrix on the vector:\n",
      " Matrix([[a], [-b]])\n"
     ]
    }
   ],
   "source": [
    "from sympy import symbols, Matrix\n",
    "\n",
    "# Define the symbols\n",
    "a, b = symbols('a b')\n",
    "\n",
    "# Define the vector |ϕ⟩\n",
    "phi = Matrix([a, b])\n",
    "\n",
    "# Define the matrix M\n",
    "M = Matrix([[1, 0], [0, -1]])\n",
    "\n",
    "# Perform the action of the matrix on the vector\n",
    "result = M * phi\n",
    "\n",
    "print(\"The action of the matrix on the vector:\\n\", result)"
   ],
   "metadata": {
    "collapsed": false,
    "ExecuteTime": {
     "end_time": "2024-02-07T16:57:49.389931100Z",
     "start_time": "2024-02-07T16:57:49.312417700Z"
    }
   },
   "id": "3a3d54687a9d0266",
   "execution_count": 28
  },
  {
   "cell_type": "markdown",
   "id": "55b61351",
   "metadata": {},
   "source": [
    "*Your Python solution*"
   ]
  },
  {
   "cell_type": "markdown",
   "id": "1e9d3bb1",
   "metadata": {},
   "source": [
    "*Your handwritten solution* "
   ]
  },
  {
   "cell_type": "markdown",
   "id": "3d55dd81",
   "metadata": {},
   "source": [
    "<br>"
   ]
  },
  {
   "cell_type": "markdown",
   "id": "8475c474",
   "metadata": {},
   "source": [
    "**7. Express the following matrices in terms of outer products of basis vectors $\\{0,1\\}$.**\n",
    "\n",
    "\\begin{align}\n",
    "I = \\begin{pmatrix} 1&0 \\\\ 0&1 \\end{pmatrix}, \\quad\n",
    "X = \\begin{pmatrix} 0&1 \\\\ 1&0 \\end{pmatrix}, \\quad\n",
    "Y = \\begin{pmatrix} 0&i \\\\ -i&0 \\end{pmatrix}, \\quad\n",
    "Z = \\begin{pmatrix} 1&0 \\\\ 0&-1 \\end{pmatrix}, \\quad\n",
    "H = \\frac{1}{\\sqrt{2}} \\begin{pmatrix} 1&1 \\\\ 1&-1 \\end{pmatrix}, \\quad \n",
    "T = \\begin{pmatrix}1 & 0\\\\0 & e^{i \\pi/4}\\end{pmatrix}. \n",
    "\\end{align}\n",
    "\n"
   ]
  },
  {
   "cell_type": "markdown",
   "id": "5182ee17",
   "metadata": {},
   "source": [
    "*Your handwritten solution* "
   ]
  },
  {
   "cell_type": "markdown",
   "id": "a20e1caa",
   "metadata": {},
   "source": [
    "<br>"
   ]
  },
  {
   "cell_type": "markdown",
   "id": "3888e240",
   "metadata": {},
   "source": [
    "**8. Using NumPy and SymPy, prove that all matrices in Problem #7 are unitary.**\n"
   ]
  },
  {
   "cell_type": "markdown",
   "id": "ee32ef52",
   "metadata": {},
   "source": [
    "*Your Python solution*"
   ]
  },
  {
   "cell_type": "markdown",
   "id": "bb6ec010",
   "metadata": {},
   "source": [
    "<br>"
   ]
  },
  {
   "cell_type": "markdown",
   "id": "4a4ed0e2",
   "metadata": {},
   "source": [
    "**9. Using SymPy, prove that the generator matrix $U(\\theta, \\phi, \\lambda)$ is unitary**\n",
    "\n",
    "$U(\\theta, \\phi, \\lambda) =\n",
    "    \\begin{pmatrix}\n",
    "        \\cos\\left(\\frac{\\theta}{2}\\right)          & -e^{i\\lambda}\\sin\\left(\\frac{\\theta}{2}\\right) \\\\\n",
    "        e^{i\\phi}\\sin\\left(\\frac{\\theta}{2}\\right) & e^{i(\\phi+\\lambda)}\\cos\\left(\\frac{\\theta}{2}\\right)\n",
    "    \\end{pmatrix}$\n",
    "    \n",
    "The parameters $\\theta, \\phi, \\lambda$ are real-valued.  "
   ]
  },
  {
   "cell_type": "markdown",
   "id": "aaf90ae2",
   "metadata": {},
   "source": [
    "*Your Python solution*"
   ]
  },
  {
   "cell_type": "markdown",
   "id": "0ef27567",
   "metadata": {},
   "source": [
    "<br>"
   ]
  },
  {
   "cell_type": "markdown",
   "id": "c513ca2f",
   "metadata": {},
   "source": [
    "**10. Using NumPy, prove that the operators $I, X, Y, Z, H, T$ are connected through the following properties:**\n",
    "\n",
    "* $X^2=Y^2=Z^2=I$\n",
    "\n",
    "* $H = \\frac{1}{2}(X + Z)$\n",
    "\n",
    "* $X = HZH$"
   ]
  },
  {
   "cell_type": "markdown",
   "id": "f82442a9",
   "metadata": {},
   "source": [
    "*Your Python solution*"
   ]
  },
  {
   "cell_type": "markdown",
   "id": "e6d3de34",
   "metadata": {},
   "source": [
    "*Your handwritten solution.* "
   ]
  },
  {
   "cell_type": "markdown",
   "id": "e8fed146",
   "metadata": {},
   "source": [
    "<br>"
   ]
  },
  {
   "cell_type": "markdown",
   "id": "130edc46",
   "metadata": {},
   "source": [
    "**11. Using NumPy, find eigenstates and eigenvalues of operators $I, X, Y, Z, H, T$**"
   ]
  },
  {
   "cell_type": "markdown",
   "id": "32ed8b93",
   "metadata": {},
   "source": [
    "*Your Python solution*"
   ]
  }
 ],
 "metadata": {
  "kernelspec": {
   "display_name": "Python 3 (ipykernel)",
   "language": "python",
   "name": "python3"
  },
  "language_info": {
   "codemirror_mode": {
    "name": "ipython",
    "version": 3
   },
   "file_extension": ".py",
   "mimetype": "text/x-python",
   "name": "python",
   "nbconvert_exporter": "python",
   "pygments_lexer": "ipython3",
   "version": "3.8.18"
  }
 },
 "nbformat": 4,
 "nbformat_minor": 5
}
